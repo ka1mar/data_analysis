{
  "nbformat": 4,
  "nbformat_minor": 0,
  "metadata": {
    "colab": {
      "name": "8predict.ipynb",
      "provenance": [],
      "collapsed_sections": []
    },
    "kernelspec": {
      "name": "python3",
      "display_name": "Python 3"
    },
    "language_info": {
      "name": "python"
    }
  },
  "cells": [
    {
      "cell_type": "code",
      "metadata": {
        "id": "pTLuoenjcVdk"
      },
      "source": [
        "import pandas as pd\n",
        "import numpy as np\n",
        "import matplotlib\n",
        "import matplotlib.pyplot as plt\n",
        "from sklearn.linear_model import LinearRegression\n",
        "from sklearn import metrics\n",
        "%matplotlib inline\n",
        "from math import sqrt"
      ],
      "execution_count": null,
      "outputs": []
    },
    {
      "cell_type": "code",
      "metadata": {
        "id": "hKa7eEG0qkTp"
      },
      "source": [
        "metrics = pd.DataFrame()\n",
        "metrics['Коэффициент:'] = ['MAE', 'MSE', 'MPE', 'MAPE', 'AD', 'MAD', 'к. детерминации', 'к. несоответствия Тейла']\n",
        "def metric(y, f, n, name):\n",
        "  MAE = np.sum(abs(f - y))/n\n",
        "  MSE = sqrt(np.sum((f - y) ** 2) /n)\n",
        "  MPE = np.sum((f - y)/(y*n))*100\n",
        "  MAPE = (np.sum(abs(f - y)/(y*n)))*100\n",
        "  AD =np.sum(abs(f - np.mean(y)))\n",
        "  MAD = np.sum(abs(f - np.mean(y)))/n\n",
        "  R2= np.sum((f - np.mean(y))**2)/np.sum((y - np.mean(y))**2)\n",
        "  v= sqrt(np.sum((f - y) ** 2)/(np.sum(y**2)+np.sum(f**2)))\n",
        "  metrics[name] = [MAE, MSE, MPE, MAPE, AD, MAD, R2, v]\n",
        "  print(\"MAE =\", MAE)\n",
        "  print(\"MSE =\",MSE)\n",
        "  print(\"MPE =\",MPE)\n",
        "  print(\"MAPE =\",MAPE)\n",
        "  print(\"AD =\",AD)\n",
        "  print(\"MAD =\",MAD)\n",
        "  print(\"Коэффициент детерминации =\",R2)\n",
        "  print(\"Коэффициент несоответствия Тейла =\",v)\n",
        "  return;"
      ],
      "execution_count": null,
      "outputs": []
    },
    {
      "cell_type": "code",
      "metadata": {
        "colab": {
          "base_uri": "https://localhost:8080/",
          "height": 203
        },
        "id": "f73kDHfZdmOX",
        "outputId": "40694631-b585-425a-b459-5f814af2bca0"
      },
      "source": [
        "df = pd.read_csv('/content/drive/MyDrive/Colab Notebooks/FLATScsv1.csv', sep=';')\n",
        "del df['Id']\n",
        "df.head()"
      ],
      "execution_count": null,
      "outputs": [
        {
          "output_type": "execute_result",
          "data": {
            "text/html": [
              "<div>\n",
              "<style scoped>\n",
              "    .dataframe tbody tr th:only-of-type {\n",
              "        vertical-align: middle;\n",
              "    }\n",
              "\n",
              "    .dataframe tbody tr th {\n",
              "        vertical-align: top;\n",
              "    }\n",
              "\n",
              "    .dataframe thead th {\n",
              "        text-align: right;\n",
              "    }\n",
              "</style>\n",
              "<table border=\"1\" class=\"dataframe\">\n",
              "  <thead>\n",
              "    <tr style=\"text-align: right;\">\n",
              "      <th></th>\n",
              "      <th>SQUARE_METERS</th>\n",
              "      <th>METRO_DISTANCE</th>\n",
              "      <th>PRICE</th>\n",
              "    </tr>\n",
              "  </thead>\n",
              "  <tbody>\n",
              "    <tr>\n",
              "      <th>0</th>\n",
              "      <td>28</td>\n",
              "      <td>677</td>\n",
              "      <td>7328400</td>\n",
              "    </tr>\n",
              "    <tr>\n",
              "      <th>1</th>\n",
              "      <td>54</td>\n",
              "      <td>120</td>\n",
              "      <td>9754600</td>\n",
              "    </tr>\n",
              "    <tr>\n",
              "      <th>2</th>\n",
              "      <td>43</td>\n",
              "      <td>1344</td>\n",
              "      <td>6781500</td>\n",
              "    </tr>\n",
              "    <tr>\n",
              "      <th>3</th>\n",
              "      <td>33</td>\n",
              "      <td>1003</td>\n",
              "      <td>6784100</td>\n",
              "    </tr>\n",
              "    <tr>\n",
              "      <th>4</th>\n",
              "      <td>30</td>\n",
              "      <td>591</td>\n",
              "      <td>7296200</td>\n",
              "    </tr>\n",
              "  </tbody>\n",
              "</table>\n",
              "</div>"
            ],
            "text/plain": [
              "   SQUARE_METERS  METRO_DISTANCE    PRICE\n",
              "0             28             677  7328400\n",
              "1             54             120  9754600\n",
              "2             43            1344  6781500\n",
              "3             33            1003  6784100\n",
              "4             30             591  7296200"
            ]
          },
          "metadata": {},
          "execution_count": 93
        }
      ]
    },
    {
      "cell_type": "code",
      "metadata": {
        "colab": {
          "base_uri": "https://localhost:8080/"
        },
        "id": "D981jds9emKZ",
        "outputId": "77cf49ce-8c75-4f34-bba2-1c310be26ac3"
      },
      "source": [
        "print ('Rows in the data frame: {0}'.format(len(df)))\n",
        "print ('Rows without NAN: {0}'.format(len(df.dropna(how='any'))))"
      ],
      "execution_count": null,
      "outputs": [
        {
          "output_type": "stream",
          "name": "stdout",
          "text": [
            "Rows in the data frame: 100\n",
            "Rows without NAN: 100\n"
          ]
        }
      ]
    },
    {
      "cell_type": "markdown",
      "metadata": {
        "id": "AxIgjMW9syIm"
      },
      "source": [
        "# 1. Зависимость цены от площади:\n",
        "\n",
        "\n",
        "\n"
      ]
    },
    {
      "cell_type": "code",
      "metadata": {
        "id": "cU5EnCGafIBB"
      },
      "source": [
        "X = df.drop('PRICE', axis=1)\n",
        "X1 = X.drop('METRO_DISTANCE', axis=1)\n",
        "y = df['PRICE']"
      ],
      "execution_count": null,
      "outputs": []
    },
    {
      "cell_type": "code",
      "metadata": {
        "colab": {
          "base_uri": "https://localhost:8080/"
        },
        "id": "mNYbjTnigdC2",
        "outputId": "dd1b669a-ee80-48ea-b2d8-e40cbbfb5640"
      },
      "source": [
        "model = LinearRegression()\n",
        "model.fit(X1, y)"
      ],
      "execution_count": null,
      "outputs": [
        {
          "output_type": "execute_result",
          "data": {
            "text/plain": [
              "LinearRegression(copy_X=True, fit_intercept=True, n_jobs=None, normalize=False)"
            ]
          },
          "metadata": {},
          "execution_count": 96
        }
      ]
    },
    {
      "cell_type": "code",
      "metadata": {
        "colab": {
          "base_uri": "https://localhost:8080/"
        },
        "id": "Yi7YRSGshP-l",
        "outputId": "d88d65bd-90e7-4ee5-e2d6-7b268701fc51"
      },
      "source": [
        "coef = pd.DataFrame(zip(['intercept'] + X1.columns.tolist(), [model.intercept_] + model.coef_.tolist()),\n",
        "                    columns=['predictor', 'coef'])\n",
        "print(coef)"
      ],
      "execution_count": null,
      "outputs": [
        {
          "output_type": "stream",
          "name": "stdout",
          "text": [
            "       predictor          coef\n",
            "0      intercept  4.292936e+06\n",
            "1  SQUARE_METERS  6.214873e+04\n"
          ]
        }
      ]
    },
    {
      "cell_type": "code",
      "metadata": {
        "id": "JAi6_Ml1kB-I",
        "colab": {
          "base_uri": "https://localhost:8080/"
        },
        "outputId": "edcf4ef0-dd4d-4cde-d0eb-09c932637900"
      },
      "source": [
        "metric(y, model.predict(X1),len(y),'м^2')"
      ],
      "execution_count": null,
      "outputs": [
        {
          "output_type": "stream",
          "name": "stdout",
          "text": [
            "MAE = 990261.942495025\n",
            "MSE = 1141985.1272904899\n",
            "MPE = 3.301140379120922\n",
            "MAPE = 15.693792634540443\n",
            "AD = 91939101.20964502\n",
            "MAD = 919391.0120964502\n",
            "Коэффициент детерминации = 0.4522205856496503\n",
            "Коэффициент несоответствия Тейла = 0.1157446536471301\n"
          ]
        }
      ]
    },
    {
      "cell_type": "markdown",
      "metadata": {
        "id": "UK-MyC-htbRF"
      },
      "source": [
        "# 2. Зависимость цены от расстояния до метро:"
      ]
    },
    {
      "cell_type": "code",
      "metadata": {
        "id": "TmnSj6WTseQ_",
        "colab": {
          "base_uri": "https://localhost:8080/"
        },
        "outputId": "c15be94f-4dbb-48f9-dcb0-e9e257022c5e"
      },
      "source": [
        "X2 = X.drop('SQUARE_METERS', axis=1)\n",
        "model.fit(X2, y)\n",
        "coef = pd.DataFrame(zip(['intercept'] + X2.columns.tolist(), [model.intercept_] + model.coef_.tolist()),\n",
        "                    columns=['predictor', 'coef'])\n",
        "print(coef)"
      ],
      "execution_count": null,
      "outputs": [
        {
          "output_type": "stream",
          "name": "stdout",
          "text": [
            "        predictor          coef\n",
            "0       intercept  9.003176e+06\n",
            "1  METRO_DISTANCE -1.679031e+03\n"
          ]
        }
      ]
    },
    {
      "cell_type": "code",
      "metadata": {
        "colab": {
          "base_uri": "https://localhost:8080/"
        },
        "id": "E40sTLtsm5UY",
        "outputId": "56f6667c-54ae-4a11-8ff2-81f0b24e6539"
      },
      "source": [
        "metric(y, model.predict(X2),len(y),'рассстояние до метро')"
      ],
      "execution_count": null,
      "outputs": [
        {
          "output_type": "stream",
          "name": "stdout",
          "text": [
            "MAE = 870605.1584099769\n",
            "MSE = 1002814.0345235703\n",
            "MPE = 2.569573659947029\n",
            "MAPE = 13.78038995526844\n",
            "AD = 101989176.67189087\n",
            "MAD = 1019891.7667189087\n",
            "Коэффициент детерминации = 0.5775983380546678\n",
            "Коэффициент несоответствия Тейла = 0.10148364845817766\n"
          ]
        }
      ]
    },
    {
      "cell_type": "markdown",
      "metadata": {
        "id": "sDLlh8rKtmiN"
      },
      "source": [
        "# 3. Зависимость цены от площади & расстояния до метро:"
      ]
    },
    {
      "cell_type": "code",
      "metadata": {
        "colab": {
          "base_uri": "https://localhost:8080/"
        },
        "id": "jU7jnyF0qYRw",
        "outputId": "74ea1ca1-8108-495f-fdf0-0cc961e15f93"
      },
      "source": [
        "model.fit(X, y)\n",
        "coef = pd.DataFrame(zip(['intercept'] + X.columns.tolist(), [model.intercept_] + model.coef_.tolist()),\n",
        "                    columns=['predictor', 'coef'])\n",
        "print(coef)"
      ],
      "execution_count": null,
      "outputs": [
        {
          "output_type": "stream",
          "name": "stdout",
          "text": [
            "        predictor          coef\n",
            "0       intercept  6.496840e+06\n",
            "1   SQUARE_METERS  5.852554e+04\n",
            "2  METRO_DISTANCE -1.603460e+03\n"
          ]
        }
      ]
    },
    {
      "cell_type": "code",
      "metadata": {
        "colab": {
          "base_uri": "https://localhost:8080/"
        },
        "id": "V1Tgbh_ssdO5",
        "outputId": "fedf1e52-6d2b-4c90-936e-1c0dba044167"
      },
      "source": [
        "metric(y, model.predict(X),len(y),'м^2 & расстояние до метро')"
      ],
      "execution_count": null,
      "outputs": [
        {
          "output_type": "stream",
          "name": "stdout",
          "text": [
            "MAE = 188069.8356556663\n",
            "MSE = 231660.84415639355\n",
            "MPE = 0.1306106690593575\n",
            "MAPE = 2.845915952227682\n",
            "AD = 121653918.61100902\n",
            "MAD = 1216539.1861100902\n",
            "Коэффициент детерминации = 0.9774581227423348\n",
            "Коэффициент несоответствия Тейла = 0.023330364236321885\n"
          ]
        }
      ]
    },
    {
      "cell_type": "code",
      "metadata": {
        "colab": {
          "base_uri": "https://localhost:8080/",
          "height": 295
        },
        "id": "MAm6AOX4tN2d",
        "outputId": "5fa75f07-308a-4831-8451-c4fbce73aad4"
      },
      "source": [
        "display(metrics)"
      ],
      "execution_count": null,
      "outputs": [
        {
          "output_type": "display_data",
          "data": {
            "text/html": [
              "<div>\n",
              "<style scoped>\n",
              "    .dataframe tbody tr th:only-of-type {\n",
              "        vertical-align: middle;\n",
              "    }\n",
              "\n",
              "    .dataframe tbody tr th {\n",
              "        vertical-align: top;\n",
              "    }\n",
              "\n",
              "    .dataframe thead th {\n",
              "        text-align: right;\n",
              "    }\n",
              "</style>\n",
              "<table border=\"1\" class=\"dataframe\">\n",
              "  <thead>\n",
              "    <tr style=\"text-align: right;\">\n",
              "      <th></th>\n",
              "      <th>Коэффициент:</th>\n",
              "      <th>м^2</th>\n",
              "      <th>рассстояние до метро</th>\n",
              "      <th>м^2 &amp; расстояние до метро</th>\n",
              "    </tr>\n",
              "  </thead>\n",
              "  <tbody>\n",
              "    <tr>\n",
              "      <th>0</th>\n",
              "      <td>MAE</td>\n",
              "      <td>9.902619e+05</td>\n",
              "      <td>8.706052e+05</td>\n",
              "      <td>1.880698e+05</td>\n",
              "    </tr>\n",
              "    <tr>\n",
              "      <th>1</th>\n",
              "      <td>MSE</td>\n",
              "      <td>1.141985e+06</td>\n",
              "      <td>1.002814e+06</td>\n",
              "      <td>2.316608e+05</td>\n",
              "    </tr>\n",
              "    <tr>\n",
              "      <th>2</th>\n",
              "      <td>MPE</td>\n",
              "      <td>3.301140e+00</td>\n",
              "      <td>2.569574e+00</td>\n",
              "      <td>1.306107e-01</td>\n",
              "    </tr>\n",
              "    <tr>\n",
              "      <th>3</th>\n",
              "      <td>MAPE</td>\n",
              "      <td>1.569379e+01</td>\n",
              "      <td>1.378039e+01</td>\n",
              "      <td>2.845916e+00</td>\n",
              "    </tr>\n",
              "    <tr>\n",
              "      <th>4</th>\n",
              "      <td>AD</td>\n",
              "      <td>9.193910e+07</td>\n",
              "      <td>1.019892e+08</td>\n",
              "      <td>1.216539e+08</td>\n",
              "    </tr>\n",
              "    <tr>\n",
              "      <th>5</th>\n",
              "      <td>MAD</td>\n",
              "      <td>9.193910e+05</td>\n",
              "      <td>1.019892e+06</td>\n",
              "      <td>1.216539e+06</td>\n",
              "    </tr>\n",
              "    <tr>\n",
              "      <th>6</th>\n",
              "      <td>К. детерминации</td>\n",
              "      <td>4.522206e-01</td>\n",
              "      <td>5.775983e-01</td>\n",
              "      <td>9.774581e-01</td>\n",
              "    </tr>\n",
              "    <tr>\n",
              "      <th>7</th>\n",
              "      <td>K. несоответствия Тейла</td>\n",
              "      <td>1.157447e-01</td>\n",
              "      <td>1.014836e-01</td>\n",
              "      <td>2.333036e-02</td>\n",
              "    </tr>\n",
              "  </tbody>\n",
              "</table>\n",
              "</div>"
            ],
            "text/plain": [
              "              Коэффициент:  ...  м^2 & расстояние до метро\n",
              "0                      MAE  ...               1.880698e+05\n",
              "1                      MSE  ...               2.316608e+05\n",
              "2                      MPE  ...               1.306107e-01\n",
              "3                     MAPE  ...               2.845916e+00\n",
              "4                       AD  ...               1.216539e+08\n",
              "5                      MAD  ...               1.216539e+06\n",
              "6          К. детерминации  ...               9.774581e-01\n",
              "7  K. несоответствия Тейла  ...               2.333036e-02\n",
              "\n",
              "[8 rows x 4 columns]"
            ]
          },
          "metadata": {}
        }
      ]
    },
    {
      "cell_type": "code",
      "metadata": {
        "id": "LY0G6Xbp0ept"
      },
      "source": [
        ""
      ],
      "execution_count": null,
      "outputs": []
    }
  ]
}