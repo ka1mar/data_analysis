{
  "nbformat": 4,
  "nbformat_minor": 0,
  "metadata": {
    "colab": {
      "name": "7p_value.ipynb",
      "provenance": []
    },
    "kernelspec": {
      "name": "python3",
      "display_name": "Python 3"
    },
    "language_info": {
      "name": "python"
    }
  },
  "cells": [
    {
      "cell_type": "code",
      "metadata": {
        "id": "bQ_ELSZwfehg",
        "colab": {
          "base_uri": "https://localhost:8080/"
        },
        "outputId": "fded3e79-e99e-49c3-dc61-8ceeb95efcbc"
      },
      "source": [
        "import pandas as pd\n",
        "import numpy as np\n",
        "from scipy import stats\n",
        "from scipy.stats import norm, chi2_contingency\n",
        "import statsmodels.api as sm"
      ],
      "execution_count": null,
      "outputs": [
        {
          "output_type": "stream",
          "name": "stderr",
          "text": [
            "/usr/local/lib/python3.7/dist-packages/statsmodels/tools/_testing.py:19: FutureWarning: pandas.util.testing is deprecated. Use the functions in the public API at pandas.testing instead.\n",
            "  import pandas.util.testing as tm\n"
          ]
        }
      ]
    },
    {
      "cell_type": "code",
      "metadata": {
        "id": "pXkRbQCdH0LO"
      },
      "source": [
        "df = pd.read_csv('/content/drive/MyDrive/Colab Notebooks/Таблица_2021-10-26_10-21.csv')"
      ],
      "execution_count": null,
      "outputs": []
    },
    {
      "cell_type": "markdown",
      "metadata": {
        "id": "cOZ_kk1DxKmk"
      },
      "source": [
        "# 1. Санкт-Петербург и Москва:"
      ]
    },
    {
      "cell_type": "code",
      "metadata": {
        "colab": {
          "base_uri": "https://localhost:8080/",
          "height": 80
        },
        "id": "vCEmqUnGgBlD",
        "outputId": "aad39773-d571-4113-ac6a-ce0f83e1fce7"
      },
      "source": [
        "Mos = df.loc[np.logical_and(df['Регион'] == 'Москва', df['Дата'] == '25.10.2021')]\n",
        "Mos.head()"
      ],
      "execution_count": null,
      "outputs": [
        {
          "output_type": "execute_result",
          "data": {
            "text/html": [
              "<div>\n",
              "<style scoped>\n",
              "    .dataframe tbody tr th:only-of-type {\n",
              "        vertical-align: middle;\n",
              "    }\n",
              "\n",
              "    .dataframe tbody tr th {\n",
              "        vertical-align: top;\n",
              "    }\n",
              "\n",
              "    .dataframe thead th {\n",
              "        text-align: right;\n",
              "    }\n",
              "</style>\n",
              "<table border=\"1\" class=\"dataframe\">\n",
              "  <thead>\n",
              "    <tr style=\"text-align: right;\">\n",
              "      <th></th>\n",
              "      <th>Дата</th>\n",
              "      <th>Регион</th>\n",
              "      <th>Заражений</th>\n",
              "      <th>Выздоровлений</th>\n",
              "      <th>Смертей</th>\n",
              "      <th>Смертей за день</th>\n",
              "      <th>Заражений за день</th>\n",
              "      <th>Выздоровлений за день</th>\n",
              "    </tr>\n",
              "  </thead>\n",
              "  <tbody>\n",
              "    <tr>\n",
              "      <th>2859</th>\n",
              "      <td>25.10.2021</td>\n",
              "      <td>Москва</td>\n",
              "      <td>1774707</td>\n",
              "      <td>1564430</td>\n",
              "      <td>30786</td>\n",
              "      <td>83</td>\n",
              "      <td>7778</td>\n",
              "      <td>3892</td>\n",
              "    </tr>\n",
              "  </tbody>\n",
              "</table>\n",
              "</div>"
            ],
            "text/plain": [
              "            Дата  Регион  ...  Заражений за день  Выздоровлений за день\n",
              "2859  25.10.2021  Москва  ...               7778                   3892\n",
              "\n",
              "[1 rows x 8 columns]"
            ]
          },
          "metadata": {},
          "execution_count": 3
        }
      ]
    },
    {
      "cell_type": "code",
      "metadata": {
        "colab": {
          "base_uri": "https://localhost:8080/",
          "height": 80
        },
        "id": "OE0liSzkhyel",
        "outputId": "cd144410-3a03-4c05-c6dd-13377ee6cd04"
      },
      "source": [
        "Spb = df.loc[np.logical_and(df['Регион'] == 'Санкт-Петербург', df['Дата'] == '25.10.2021')]\n",
        "Spb.head()"
      ],
      "execution_count": null,
      "outputs": [
        {
          "output_type": "execute_result",
          "data": {
            "text/html": [
              "<div>\n",
              "<style scoped>\n",
              "    .dataframe tbody tr th:only-of-type {\n",
              "        vertical-align: middle;\n",
              "    }\n",
              "\n",
              "    .dataframe tbody tr th {\n",
              "        vertical-align: top;\n",
              "    }\n",
              "\n",
              "    .dataframe thead th {\n",
              "        text-align: right;\n",
              "    }\n",
              "</style>\n",
              "<table border=\"1\" class=\"dataframe\">\n",
              "  <thead>\n",
              "    <tr style=\"text-align: right;\">\n",
              "      <th></th>\n",
              "      <th>Дата</th>\n",
              "      <th>Регион</th>\n",
              "      <th>Заражений</th>\n",
              "      <th>Выздоровлений</th>\n",
              "      <th>Смертей</th>\n",
              "      <th>Смертей за день</th>\n",
              "      <th>Заражений за день</th>\n",
              "      <th>Выздоровлений за день</th>\n",
              "    </tr>\n",
              "  </thead>\n",
              "  <tbody>\n",
              "    <tr>\n",
              "      <th>30256</th>\n",
              "      <td>25.10.2021</td>\n",
              "      <td>Санкт-Петербург</td>\n",
              "      <td>689093</td>\n",
              "      <td>625563</td>\n",
              "      <td>23430</td>\n",
              "      <td>65</td>\n",
              "      <td>2693</td>\n",
              "      <td>1102</td>\n",
              "    </tr>\n",
              "  </tbody>\n",
              "</table>\n",
              "</div>"
            ],
            "text/plain": [
              "             Дата           Регион  ...  Заражений за день  Выздоровлений за день\n",
              "30256  25.10.2021  Санкт-Петербург  ...               2693                   1102\n",
              "\n",
              "[1 rows x 8 columns]"
            ]
          },
          "metadata": {},
          "execution_count": 33
        }
      ]
    },
    {
      "cell_type": "code",
      "metadata": {
        "colab": {
          "base_uri": "https://localhost:8080/"
        },
        "id": "5pE7_nqko4uP",
        "outputId": "53615584-4331-4632-fa48-3a247660f4c6"
      },
      "source": [
        "z, p_value = sm.stats.proportions_ztest([int(Spb['Смертей за день']), int(Mos['Смертей за день'])], [int(Spb['Заражений за день']), int(Mos['Заражений за день'])])\n",
        "print(['{:.12f}'.format(b) for b in (z, p_value)])\n"
      ],
      "execution_count": null,
      "outputs": [
        {
          "output_type": "stream",
          "name": "stdout",
          "text": [
            "['5.101944807771', '0.000000336181']\n"
          ]
        }
      ]
    },
    {
      "cell_type": "markdown",
      "metadata": {
        "id": "-5A-zeiIxZUK"
      },
      "source": [
        "- отличия статистически значимы"
      ]
    },
    {
      "cell_type": "markdown",
      "metadata": {
        "id": "RBT-hx1uxf4a"
      },
      "source": [
        "# 2. Воронежская и Курская области:"
      ]
    },
    {
      "cell_type": "code",
      "metadata": {
        "colab": {
          "base_uri": "https://localhost:8080/",
          "height": 80
        },
        "id": "q4pQfheCiC_m",
        "outputId": "e66440e2-729d-48a1-9918-fd87cb00c541"
      },
      "source": [
        "Vrn = df.loc[np.logical_and(df['Регион'] == 'Воронежская обл.', df['Дата'] == '25.10.2021')]\n",
        "Vrn.head()"
      ],
      "execution_count": null,
      "outputs": [
        {
          "output_type": "execute_result",
          "data": {
            "text/html": [
              "<div>\n",
              "<style scoped>\n",
              "    .dataframe tbody tr th:only-of-type {\n",
              "        vertical-align: middle;\n",
              "    }\n",
              "\n",
              "    .dataframe tbody tr th {\n",
              "        vertical-align: top;\n",
              "    }\n",
              "\n",
              "    .dataframe thead th {\n",
              "        text-align: right;\n",
              "    }\n",
              "</style>\n",
              "<table border=\"1\" class=\"dataframe\">\n",
              "  <thead>\n",
              "    <tr style=\"text-align: right;\">\n",
              "      <th></th>\n",
              "      <th>Дата</th>\n",
              "      <th>Регион</th>\n",
              "      <th>Заражений</th>\n",
              "      <th>Выздоровлений</th>\n",
              "      <th>Смертей</th>\n",
              "      <th>Смертей за день</th>\n",
              "      <th>Заражений за день</th>\n",
              "      <th>Выздоровлений за день</th>\n",
              "    </tr>\n",
              "  </thead>\n",
              "  <tbody>\n",
              "    <tr>\n",
              "      <th>16194</th>\n",
              "      <td>25.10.2021</td>\n",
              "      <td>Воронежская обл.</td>\n",
              "      <td>149620</td>\n",
              "      <td>118064</td>\n",
              "      <td>4818</td>\n",
              "      <td>15</td>\n",
              "      <td>741</td>\n",
              "      <td>174</td>\n",
              "    </tr>\n",
              "  </tbody>\n",
              "</table>\n",
              "</div>"
            ],
            "text/plain": [
              "             Дата            Регион  ...  Заражений за день  Выздоровлений за день\n",
              "16194  25.10.2021  Воронежская обл.  ...                741                    174\n",
              "\n",
              "[1 rows x 8 columns]"
            ]
          },
          "metadata": {},
          "execution_count": 43
        }
      ]
    },
    {
      "cell_type": "code",
      "metadata": {
        "colab": {
          "base_uri": "https://localhost:8080/",
          "height": 80
        },
        "id": "rmpu0-9GwOzi",
        "outputId": "e2aa6a6c-f265-480b-bf66-e3c38286f451"
      },
      "source": [
        "Kur = df.loc[np.logical_and(df['Регион'] == 'Курская обл.', df['Дата'] == '25.10.2021')]\n",
        "Kur.head()"
      ],
      "execution_count": null,
      "outputs": [
        {
          "output_type": "execute_result",
          "data": {
            "text/html": [
              "<div>\n",
              "<style scoped>\n",
              "    .dataframe tbody tr th:only-of-type {\n",
              "        vertical-align: middle;\n",
              "    }\n",
              "\n",
              "    .dataframe tbody tr th {\n",
              "        vertical-align: top;\n",
              "    }\n",
              "\n",
              "    .dataframe thead th {\n",
              "        text-align: right;\n",
              "    }\n",
              "</style>\n",
              "<table border=\"1\" class=\"dataframe\">\n",
              "  <thead>\n",
              "    <tr style=\"text-align: right;\">\n",
              "      <th></th>\n",
              "      <th>Дата</th>\n",
              "      <th>Регион</th>\n",
              "      <th>Заражений</th>\n",
              "      <th>Выздоровлений</th>\n",
              "      <th>Смертей</th>\n",
              "      <th>Смертей за день</th>\n",
              "      <th>Заражений за день</th>\n",
              "      <th>Выздоровлений за день</th>\n",
              "    </tr>\n",
              "  </thead>\n",
              "  <tbody>\n",
              "    <tr>\n",
              "      <th>32458</th>\n",
              "      <td>25.10.2021</td>\n",
              "      <td>Курская обл.</td>\n",
              "      <td>64176</td>\n",
              "      <td>56062</td>\n",
              "      <td>1574</td>\n",
              "      <td>4</td>\n",
              "      <td>311</td>\n",
              "      <td>171</td>\n",
              "    </tr>\n",
              "  </tbody>\n",
              "</table>\n",
              "</div>"
            ],
            "text/plain": [
              "             Дата        Регион  ...  Заражений за день  Выздоровлений за день\n",
              "32458  25.10.2021  Курская обл.  ...                311                    171\n",
              "\n",
              "[1 rows x 8 columns]"
            ]
          },
          "metadata": {},
          "execution_count": 44
        }
      ]
    },
    {
      "cell_type": "code",
      "metadata": {
        "colab": {
          "base_uri": "https://localhost:8080/"
        },
        "id": "8-ECxTNhipVw",
        "outputId": "3d3496fa-0024-467f-bf8b-491e5ad895a5"
      },
      "source": [
        "z, p_value = sm.stats.proportions_ztest([int(Vrn['Смертей за день']), int(Kur['Смертей за день'])], [int(Vrn['Заражений за день']), int(Kur['Заражений за день'])])\n",
        "print(['{:.12f}'.format(b) for b in (z, p_value)])"
      ],
      "execution_count": null,
      "outputs": [
        {
          "output_type": "stream",
          "name": "stdout",
          "text": [
            "['0.820343844679', '0.412020118336']\n"
          ]
        }
      ]
    },
    {
      "cell_type": "markdown",
      "metadata": {
        "id": "IeeOD6vzxm0H"
      },
      "source": [
        "- отличия статистически не значимы"
      ]
    }
  ]
}