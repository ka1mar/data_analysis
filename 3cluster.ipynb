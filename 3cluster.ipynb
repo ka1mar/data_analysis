{
  "nbformat": 4,
  "nbformat_minor": 0,
  "metadata": {
    "colab": {
      "name": "3cluster.ipynb",
      "provenance": [],
      "collapsed_sections": []
    },
    "kernelspec": {
      "name": "python3",
      "display_name": "Python 3"
    },
    "language_info": {
      "name": "python"
    }
  },
  "cells": [
    {
      "cell_type": "code",
      "metadata": {
        "id": "AXhK5CNufXLg"
      },
      "source": [
        "import pandas as pd\n",
        "import numpy as np\n",
        "import matplotlib\n",
        "import matplotlib.pyplot as plt\n",
        "from scipy.cluster.hierarchy import dendrogram, linkage, fcluster\n",
        "%matplotlib inline"
      ],
      "execution_count": null,
      "outputs": []
    },
    {
      "cell_type": "code",
      "metadata": {
        "id": "yPj19twYfs0R"
      },
      "source": [
        "St = pd.read_csv('/content/drive/MyDrive/Colab Notebooks/ALL_SPB_STOPS.csv', sep=\";\", header = 0, index_col='STOP_NAME',  encoding='cp1251')"
      ],
      "execution_count": null,
      "outputs": []
    },
    {
      "cell_type": "code",
      "metadata": {
        "colab": {
          "base_uri": "https://localhost:8080/",
          "height": 234
        },
        "id": "l-qZYBf4gBll",
        "outputId": "a7b4b260-cca0-4c7b-e813-a51f591818c2"
      },
      "source": [
        "St.head()"
      ],
      "execution_count": null,
      "outputs": [
        {
          "output_type": "execute_result",
          "data": {
            "text/html": [
              "<div>\n",
              "<style scoped>\n",
              "    .dataframe tbody tr th:only-of-type {\n",
              "        vertical-align: middle;\n",
              "    }\n",
              "\n",
              "    .dataframe tbody tr th {\n",
              "        vertical-align: top;\n",
              "    }\n",
              "\n",
              "    .dataframe thead th {\n",
              "        text-align: right;\n",
              "    }\n",
              "</style>\n",
              "<table border=\"1\" class=\"dataframe\">\n",
              "  <thead>\n",
              "    <tr style=\"text-align: right;\">\n",
              "      <th></th>\n",
              "      <th>ID_STOP</th>\n",
              "      <th>LATITUDE</th>\n",
              "      <th>LONGITUDE</th>\n",
              "    </tr>\n",
              "    <tr>\n",
              "      <th>STOP_NAME</th>\n",
              "      <th></th>\n",
              "      <th></th>\n",
              "      <th></th>\n",
              "    </tr>\n",
              "  </thead>\n",
              "  <tbody>\n",
              "    <tr>\n",
              "      <th>Пр.Ветеранов-1</th>\n",
              "      <td>100101</td>\n",
              "      <td>59.841604</td>\n",
              "      <td>30.253984</td>\n",
              "    </tr>\n",
              "    <tr>\n",
              "      <th>Пр.Ветеранов-2</th>\n",
              "      <td>100102</td>\n",
              "      <td>59.842042</td>\n",
              "      <td>30.250084</td>\n",
              "    </tr>\n",
              "    <tr>\n",
              "      <th>Ленинский пр.-1</th>\n",
              "      <td>100103</td>\n",
              "      <td>59.851683</td>\n",
              "      <td>30.268385</td>\n",
              "    </tr>\n",
              "    <tr>\n",
              "      <th>Ленинский пр.-2</th>\n",
              "      <td>100104</td>\n",
              "      <td>59.849710</td>\n",
              "      <td>30.268348</td>\n",
              "    </tr>\n",
              "    <tr>\n",
              "      <th>Автово</th>\n",
              "      <td>100105</td>\n",
              "      <td>59.867292</td>\n",
              "      <td>30.261133</td>\n",
              "    </tr>\n",
              "  </tbody>\n",
              "</table>\n",
              "</div>"
            ],
            "text/plain": [
              "                 ID_STOP   LATITUDE  LONGITUDE\n",
              "STOP_NAME                                     \n",
              "Пр.Ветеранов-1    100101  59.841604  30.253984\n",
              "Пр.Ветеранов-2    100102  59.842042  30.250084\n",
              "Ленинский пр.-1   100103  59.851683  30.268385\n",
              "Ленинский пр.-2   100104  59.849710  30.268348\n",
              "Автово            100105  59.867292  30.261133"
            ]
          },
          "metadata": {},
          "execution_count": 100
        }
      ]
    },
    {
      "cell_type": "code",
      "metadata": {
        "colab": {
          "base_uri": "https://localhost:8080/"
        },
        "id": "xj6fhdZ5gG-B",
        "outputId": "3ac97534-e10e-4826-8219-d87f01865009"
      },
      "source": [
        "row = St.loc[\"Приморская\"]\n",
        "print(row)"
      ],
      "execution_count": null,
      "outputs": [
        {
          "output_type": "stream",
          "name": "stdout",
          "text": [
            "ID_STOP      100301.000000\n",
            "LATITUDE         59.948559\n",
            "LONGITUDE        30.234443\n",
            "Name: Приморская, dtype: float64\n"
          ]
        }
      ]
    },
    {
      "cell_type": "code",
      "metadata": {
        "id": "5MXCeLpphltX"
      },
      "source": [
        "St = St.query('(LATITUDE - 59.948559)*(LATITUDE - 59.948559) + (LONGITUDE - 30.234443)*(LONGITUDE - 30.234443) < 0.0001')"
      ],
      "execution_count": null,
      "outputs": []
    },
    {
      "cell_type": "code",
      "metadata": {
        "colab": {
          "base_uri": "https://localhost:8080/",
          "height": 234
        },
        "id": "bVRDbuRZl8pq",
        "outputId": "89bdc6b0-03d5-4412-9e51-157b72fb6b35"
      },
      "source": [
        "St.head()"
      ],
      "execution_count": null,
      "outputs": [
        {
          "output_type": "execute_result",
          "data": {
            "text/html": [
              "<div>\n",
              "<style scoped>\n",
              "    .dataframe tbody tr th:only-of-type {\n",
              "        vertical-align: middle;\n",
              "    }\n",
              "\n",
              "    .dataframe tbody tr th {\n",
              "        vertical-align: top;\n",
              "    }\n",
              "\n",
              "    .dataframe thead th {\n",
              "        text-align: right;\n",
              "    }\n",
              "</style>\n",
              "<table border=\"1\" class=\"dataframe\">\n",
              "  <thead>\n",
              "    <tr style=\"text-align: right;\">\n",
              "      <th></th>\n",
              "      <th>ID_STOP</th>\n",
              "      <th>LATITUDE</th>\n",
              "      <th>LONGITUDE</th>\n",
              "    </tr>\n",
              "    <tr>\n",
              "      <th>STOP_NAME</th>\n",
              "      <th></th>\n",
              "      <th></th>\n",
              "      <th></th>\n",
              "    </tr>\n",
              "  </thead>\n",
              "  <tbody>\n",
              "    <tr>\n",
              "      <th>Приморская</th>\n",
              "      <td>100301</td>\n",
              "      <td>59.948559</td>\n",
              "      <td>30.234443</td>\n",
              "    </tr>\n",
              "    <tr>\n",
              "      <th>Метро \"Приморская\" (10)</th>\n",
              "      <td>14903</td>\n",
              "      <td>59.948804</td>\n",
              "      <td>30.231600</td>\n",
              "    </tr>\n",
              "    <tr>\n",
              "      <th>Улица Нахимова / Наличная улица (9, 10, 11)</th>\n",
              "      <td>14906</td>\n",
              "      <td>59.942403</td>\n",
              "      <td>30.231199</td>\n",
              "    </tr>\n",
              "    <tr>\n",
              "      <th>Набережная реки Смоленки (10)</th>\n",
              "      <td>14908</td>\n",
              "      <td>59.946803</td>\n",
              "      <td>30.230499</td>\n",
              "    </tr>\n",
              "    <tr>\n",
              "      <th>Улица Кораблестроителей (конечная, 9, 10, 11)</th>\n",
              "      <td>15006</td>\n",
              "      <td>59.956564</td>\n",
              "      <td>30.234421</td>\n",
              "    </tr>\n",
              "  </tbody>\n",
              "</table>\n",
              "</div>"
            ],
            "text/plain": [
              "                                               ID_STOP   LATITUDE  LONGITUDE\n",
              "STOP_NAME                                                                   \n",
              "Приморская                                      100301  59.948559  30.234443\n",
              "Метро \"Приморская\" (10)                          14903  59.948804  30.231600\n",
              "Улица Нахимова / Наличная улица (9, 10, 11)      14906  59.942403  30.231199\n",
              "Набережная реки Смоленки (10)                    14908  59.946803  30.230499\n",
              "Улица Кораблестроителей (конечная, 9, 10, 11)    15006  59.956564  30.234421"
            ]
          },
          "metadata": {},
          "execution_count": 103
        }
      ]
    },
    {
      "cell_type": "code",
      "metadata": {
        "colab": {
          "base_uri": "https://localhost:8080/",
          "height": 265
        },
        "id": "yshePRSC91vp",
        "outputId": "2c4203df-e953-4df2-d6e6-842a29fb58f3"
      },
      "source": [
        "#St = St[['LATITUDE', 'LONGITUDE']]\n",
        "plt.scatter(St['LATITUDE'], St['LONGITUDE'])\n",
        "plt.grid()"
      ],
      "execution_count": null,
      "outputs": [
        {
          "output_type": "display_data",
          "data": {
            "image/png": "[encoded data removed]",
            "text/plain": [
              "<Figure size 432x288 with 1 Axes>"
            ]
          },
          "metadata": {
            "needs_background": "light"
          }
        }
      ]
    },
    {
      "cell_type": "code",
      "metadata": {
        "id": "MUQbTn0_l_l4",
        "colab": {
          "base_uri": "https://localhost:8080/",
          "height": 266
        },
        "outputId": "8a7dca5f-4308-456b-f02f-1c0b80a070b2"
      },
      "source": [
        "link = linkage(St[['LATITUDE', 'LONGITUDE']], 'centroid', 'euclidean')\n",
        "dn = dendrogram(link)"
      ],
      "execution_count": null,
      "outputs": [
        {
          "output_type": "display_data",
          "data": {
            "image/png": "[encoded data removed]",
            "text/plain": [
              "<Figure size 432x288 with 1 Axes>"
            ]
          },
          "metadata": {
            "needs_background": "light"
          }
        }
      ]
    },
    {
      "cell_type": "code",
      "metadata": {
        "id": "XpSnFwoyCCpP"
      },
      "source": [
        "St['cluster'] = fcluster(link, 7, criterion='maxclust')"
      ],
      "execution_count": null,
      "outputs": []
    },
    {
      "cell_type": "code",
      "metadata": {
        "colab": {
          "base_uri": "https://localhost:8080/"
        },
        "id": "lqJrq1qgNXYT",
        "outputId": "e3d105b9-8147-4f22-9f14-e30290a18843"
      },
      "source": [
        "St.groupby('cluster').size()"
      ],
      "execution_count": null,
      "outputs": [
        {
          "output_type": "execute_result",
          "data": {
            "text/plain": [
              "cluster\n",
              "1     3\n",
              "2     8\n",
              "3    13\n",
              "4     7\n",
              "5     2\n",
              "6    13\n",
              "7     1\n",
              "dtype: int64"
            ]
          },
          "metadata": {},
          "execution_count": 110
        }
      ]
    },
    {
      "cell_type": "code",
      "metadata": {
        "colab": {
          "base_uri": "https://localhost:8080/"
        },
        "id": "itFvrAp5DODV",
        "outputId": "22948a7c-c6d0-4289-c1d5-aa25548a8c29"
      },
      "source": [
        "St = St.sort_values(by='cluster')\n",
        "print(St['cluster'])"
      ],
      "execution_count": null,
      "outputs": [
        {
          "output_type": "stream",
          "name": "stdout",
          "text": [
            "STOP_NAME\n",
            "МАГАЗИН \"СТРОИТЕЛЬ\" [7]                          1\n",
            "НОВОСМОЛЕНСКАЯ НАБ.,6 [7]<                       1\n",
            "НОВОСМОЛЕНСКАЯ НАБ.,6 [7]                        1\n",
            "Улица Нахимова (9, 11)                           2\n",
            "УЛ. НАХИМОВА [1, 6]                              2\n",
            "Улица Нахимова (10)                              2\n",
            "Улица Нахимова / Наличная улица (9, 10, 11)      2\n",
            "УЛ. НАХИМОВА [1, 6]<                             2\n",
            "Улица Нахимова T (1, 6)                          2\n",
            "Улица Нахимова T (1, 6)                          2\n",
            "НАЛИЧНАЯ УЛ. УГ. УЛ. НАХИМОВА [7]<               2\n",
            "Метро \"Приморская\" T (1, 6)                      3\n",
            "СТ. МЕТРО \"ПРИМОРСКАЯ\" [128]<                    3\n",
            "НОВОСМОЛЕНСКАЯ НАБ.(ТЕСТ)                        3\n",
            "СТ. МЕТРО \"ПРИМОРСКАЯ\" [7]                       3\n",
            "СТ. МЕТРО \"ПРИМОРСКАЯ\"                           3\n",
            "СТАНЦИЯ МЕТРО \"ПРИМОРСКАЯ\"                       3\n",
            "НОВОСМОЛЕНСКАЯ НАБ.,2 [7]                        3\n",
            "Метро \"Приморская\" (10)                          3\n",
            "Набережная реки Смоленки (10)                    3\n",
            "Метро \"Приморская\" (10)                          3\n",
            "Метро \"Приморская\" T (1, 6)                      3\n",
            "СТ. МЕТРО \"ПРИМОРСКАЯ\"                           3\n",
            "СТ. МЕТРО \"ПРИМОРСКАЯ\" [7]<                      3\n",
            "УНИВЕРСАМ \"ГАВАНСКИЙ\" [6]                        4\n",
            "УНИВЕРСАМ \"ГАВАНСКИЙ\" [6]<                       4\n",
            "Приморская                                       4\n",
            "Универсам (10)                                   4\n",
            "Универсам T (1, 6)                               4\n",
            "Универсам T (1, 6)                               4\n",
            "Универсам (10)                                   4\n",
            "УЛ. ОДОЕВСКОГО, 28 []<                           5\n",
            "УЛ. ОДОЕВСКОГО 28 [тест]                         5\n",
            "Улица Кораблестроителей (9, 10, 11)              6\n",
            "УРАЛЬСКАЯ УЛ., УГ. НАЛИЧНОЙ УЛ.                  6\n",
            "Улица Кораблестроителей (конечная, 9, 10, 11)    6\n",
            "УЛ. КОРАБЛЕСТРОИТЕЛЕЙ                            6\n",
            "Уральская улица (9, 10, 11)                      6\n",
            "Уральская улица (10)                             6\n",
            "Улица Кораблестроителей Т (конечная, 1, 6)       6\n",
            "Уральская улица T (1, 6)                         6\n",
            "НАЛИЧНАЯ УЛ., УГ. УРАЛЬСКОЙ УЛ.                  6\n",
            "УЛ. КОРАБЛЕСТРОИТЕЛЕЙ [1, 6]                     6\n",
            "А.С. \"НАЛИЧНАЯ УЛ.\"                              6\n",
            "Уральская улица T (1, 6)                         6\n",
            "Улица Кораблестроителей (9, 11)                  6\n",
            "ПР. КИМА, УГ. УРАЛЬСКОЙ УЛ.                      7\n",
            "Name: cluster, dtype: int32\n"
          ]
        }
      ]
    },
    {
      "cell_type": "code",
      "metadata": {
        "id": "YlJSakwqLMyb"
      },
      "source": [
        ""
      ],
      "execution_count": null,
      "outputs": []
    }
  ]
}